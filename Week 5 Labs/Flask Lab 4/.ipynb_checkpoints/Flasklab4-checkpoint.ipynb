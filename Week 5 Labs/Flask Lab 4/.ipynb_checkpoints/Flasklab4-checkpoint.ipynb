{
 "cells": [
  {
   "cell_type": "code",
   "execution_count": 1,
   "id": "ed735e29-bdf9-4823-ad56-eb244a84ba0d",
   "metadata": {},
   "outputs": [
    {
     "name": "stdout",
     "output_type": "stream",
     "text": [
      " * Serving Flask app '__main__'\n",
      " * Debug mode: off\n"
     ]
    },
    {
     "name": "stderr",
     "output_type": "stream",
     "text": [
      "WARNING: This is a development server. Do not use it in a production deployment. Use a production WSGI server instead.\n",
      " * Running on all addresses (0.0.0.0)\n",
      " * Running on http://127.0.0.1:5000\n",
      " * Running on http://192.168.0.16:5000\n",
      "Press CTRL+C to quit\n"
     ]
    }
   ],
   "source": [
    "# Import necessary libraries\n",
    "from flask import Flask\n",
    "from IPython.display import display, Javascript\n",
    "\n",
    "# Initialize the Flask application\n",
    "app = Flask(__name__)\n",
    "\n",
    "# Route for the Home page\n",
    "@app.route('/')\n",
    "def home():\n",
    "    return '''\n",
    "    <h1>Welcome to Flask in Jupyter!</h1>\n",
    "    <p>This is a simple webpage served using Flask inside Jupyter.</p>\n",
    "    <a href=\"/about\">Go to About Page</a>\n",
    "    '''\n",
    "\n",
    "# Route for the About page\n",
    "@app.route('/about')\n",
    "def about():\n",
    "    return '''\n",
    "    <h1>About This Web App</h1>\n",
    "    <p>This page was generated using Flask within a Jupyter notebook. It's a simple example to show Flask routing.</p>\n",
    "    <a href=\"/\">Go back Home</a>\n",
    "    '''\n",
    "    \n",
    "@app.route('/contact')\n",
    "def contact():\n",
    "    return '''\n",
    "    <h1>Contact Us</h1>\n",
    "    <p>If you have any questions, please reach out at contact@example.com.</p>\n",
    "    <a href=\"/\">Go back Home</a>\n",
    "    '''\n",
    "    \n",
    "# Function to run the Flask app\n",
    "def run_flask():\n",
    "    app.run(host='0.0.0.0', port=5000)\n",
    "\n",
    "# Start the Flask application\n",
    "run_flask()"
   ]
  },
  {
   "cell_type": "code",
   "execution_count": null,
   "id": "95bd4274-5e20-4244-8bd8-6c7f3e026c74",
   "metadata": {},
   "outputs": [
    {
     "name": "stdout",
     "output_type": "stream",
     "text": [
      " * Serving Flask app '__main__'\n",
      " * Debug mode: off\n"
     ]
    }
   ],
   "source": [
    "from flask import Flask, request\n",
    "from threading import Thread\n",
    "import logging\n",
    "\n",
    "app = Flask(__name__)\n",
    "\n",
    "logging.basicConfig(\n",
    "    filename='app.log',\n",
    "    level=logging.INFO,\n",
    "    format='%(asctime)s [%(levelname)s] %(message)s'\n",
    ")\n",
    "\n",
    "@app.route('/')\n",
    "def home():\n",
    "    app.logger.info(\"Home page accessed\")\n",
    "    return \"Welcome to the Home Page!\"\n",
    "\n",
    "# --- Add a GET form for /login ---\n",
    "@app.get('/login')\n",
    "def login_form():\n",
    "    return \"\"\"\n",
    "    <h2>Login</h2>\n",
    "    <form action=\"/login\" method=\"post\">\n",
    "      <input name=\"username\" placeholder=\"username\">\n",
    "      <button type=\"submit\">Log in</button>\n",
    "    </form>\n",
    "    \"\"\"\n",
    "\n",
    "# Keep POST for logging the attempt\n",
    "@app.post('/login')\n",
    "def login():\n",
    "    username = (request.form.get('username') or '').strip()\n",
    "    app.logger.info(f\"Login attempt by user: {username}\")\n",
    "    return f\"Hello, {username or 'guest'}! Login attempt logged.\"\n",
    "\n",
    "# Function to run the Flask app\n",
    "def run_flask():\n",
    "    app.run(host='0.0.0.0', port=5000)\n",
    "\n",
    "# Start the Flask application\n",
    "run_flask()\n"
   ]
  },
  {
   "cell_type": "code",
   "execution_count": null,
   "id": "1b2f56a1-3bbf-4163-9b2a-fba91bdff2bb",
   "metadata": {},
   "outputs": [],
   "source": []
  }
 ],
 "metadata": {
  "kernelspec": {
   "display_name": "Python 3 (ipykernel)",
   "language": "python",
   "name": "python3"
  },
  "language_info": {
   "codemirror_mode": {
    "name": "ipython",
    "version": 3
   },
   "file_extension": ".py",
   "mimetype": "text/x-python",
   "name": "python",
   "nbconvert_exporter": "python",
   "pygments_lexer": "ipython3",
   "version": "3.11.13"
  }
 },
 "nbformat": 4,
 "nbformat_minor": 5
}
