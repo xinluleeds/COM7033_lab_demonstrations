{
 "cells": [
  {
   "cell_type": "code",
   "execution_count": 1,
   "id": "1b2f56a1-3bbf-4163-9b2a-fba91bdff2bb",
   "metadata": {},
   "outputs": [
    {
     "name": "stdout",
     "output_type": "stream",
     "text": [
      "🚀 Flask app with logging is running at http://127.0.0.1:5000\n",
      "📝 Log file: app.log (will record all route access events)\n",
      " * Serving Flask app '__main__'\n",
      " * Debug mode: off\n"
     ]
    }
   ],
   "source": [
    "# --------------------------------------------\n",
    "# Import necessary libraries\n",
    "# --------------------------------------------\n",
    "from flask import Flask, request\n",
    "from IPython.display import display, Javascript\n",
    "import logging\n",
    "from threading import Thread\n",
    "\n",
    "# --------------------------------------------\n",
    "# Initialize the Flask application\n",
    "# --------------------------------------------\n",
    "app = Flask(__name__)\n",
    "\n",
    "# --------------------------------------------\n",
    "# Configure Logging\n",
    "# --------------------------------------------\n",
    "logging.basicConfig(\n",
    "    filename='app.log',                   # Log file name\n",
    "    level=logging.INFO,                   # Log level (INFO, WARNING, ERROR)\n",
    "    format='%(asctime)s [%(levelname)s] %(message)s'  # Log format\n",
    ")\n",
    "\n",
    "app.logger.info(\"✅ Flask app started with logging enabled.\")\n",
    "\n",
    "# --------------------------------------------\n",
    "# Define Routes\n",
    "# --------------------------------------------\n",
    "\n",
    "@app.route('/')\n",
    "def home():\n",
    "    app.logger.info(\"Home page accessed.\")\n",
    "    return '''\n",
    "    <h1>Welcome to Flask in Jupyter!</h1>\n",
    "    <p>This is a simple webpage served using Flask inside Jupyter.</p>\n",
    "    <a href=\"/about\">Go to About Page</a> |\n",
    "    <a href=\"/contact\">Contact Us</a>\n",
    "    '''\n",
    "\n",
    "@app.route('/about')\n",
    "def about():\n",
    "    app.logger.info(\"About page accessed.\")\n",
    "    return '''\n",
    "    <h1>About This Web App</h1>\n",
    "    <p>This page was generated using Flask within a Jupyter notebook. It's a simple example to show Flask routing.</p>\n",
    "    <a href=\"/\">Go back Home</a>\n",
    "    '''\n",
    "\n",
    "@app.route('/contact')\n",
    "def contact():\n",
    "    user_ip = request.remote_addr  # capture visitor IP\n",
    "    app.logger.info(f\"Contact page accessed from IP: {user_ip}\")\n",
    "    return '''\n",
    "    <h1>Contact Us</h1>\n",
    "    <p>If you have any questions, please reach out at contact@example.com.</p>\n",
    "    <a href=\"/\">Go back Home</a>\n",
    "    '''\n",
    "\n",
    "# --------------------------------------------\n",
    "# Function to run Flask safely in Jupyter\n",
    "# --------------------------------------------\n",
    "def run_flask():\n",
    "    app.run(host='0.0.0.0', port=5000, debug=False)\n",
    "\n",
    "# Run in background thread so Jupyter doesn’t block\n",
    "Thread(target=run_flask, daemon=True).start()\n",
    "\n",
    "print(\"🚀 Flask app with logging is running at http://127.0.0.1:5000\")\n",
    "print(\"📝 Log file: app.log (will record all route access events)\")\n"
   ]
  },
  {
   "cell_type": "code",
   "execution_count": null,
   "id": "ea6196dc-bc1a-4b7b-a3ed-7d7bcc1a09d1",
   "metadata": {},
   "outputs": [],
   "source": []
  }
 ],
 "metadata": {
  "kernelspec": {
   "display_name": "Python 3 (ipykernel)",
   "language": "python",
   "name": "python3"
  },
  "language_info": {
   "codemirror_mode": {
    "name": "ipython",
    "version": 3
   },
   "file_extension": ".py",
   "mimetype": "text/x-python",
   "name": "python",
   "nbconvert_exporter": "python",
   "pygments_lexer": "ipython3",
   "version": "3.11.13"
  }
 },
 "nbformat": 4,
 "nbformat_minor": 5
}
