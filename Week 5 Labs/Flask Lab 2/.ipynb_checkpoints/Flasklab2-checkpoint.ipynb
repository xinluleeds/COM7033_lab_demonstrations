{
 "cells": [
  {
   "cell_type": "code",
   "execution_count": 2,
   "id": "d637e624-26ec-4134-b25a-1fcf860db362",
   "metadata": {},
   "outputs": [
    {
     "data": {
      "text/html": [
       "<h1>Hello, World!</h1>"
      ],
      "text/plain": [
       "<IPython.core.display.HTML object>"
      ]
     },
     "metadata": {},
     "output_type": "display_data"
    }
   ],
   "source": [
    "from IPython.display import display, HTML\n",
    "\n",
    "# Display HTML content\n",
    "display(HTML(\"<h1>Hello, World!</h1>\"))"
   ]
  },
  {
   "cell_type": "code",
   "execution_count": null,
   "id": "0f681906-00fe-4d6a-a1da-f6575b8f9468",
   "metadata": {},
   "outputs": [
    {
     "data": {
      "application/javascript": [
       "window.open(\"/proxy/5000/\",\"_blank\")"
      ],
      "text/plain": [
       "<IPython.core.display.Javascript object>"
      ]
     },
     "metadata": {},
     "output_type": "display_data"
    },
    {
     "name": "stdout",
     "output_type": "stream",
     "text": [
      " * Serving Flask app '__main__'\n",
      " * Debug mode: off\n"
     ]
    },
    {
     "name": "stderr",
     "output_type": "stream",
     "text": [
      "WARNING: This is a development server. Do not use it in a production deployment. Use a production WSGI server instead.\n",
      " * Running on all addresses (0.0.0.0)\n",
      " * Running on http://127.0.0.1:5000\n",
      " * Running on http://192.168.0.16:5000\n",
      "Press CTRL+C to quit\n"
     ]
    }
   ],
   "source": [
    "# Import necessary libraries\n",
    "from flask import Flask\n",
    "from IPython.display import display, Javascript\n",
    "\n",
    "# Initialize the Flask application\n",
    "app = Flask(__name__)\n",
    "\n",
    "# Route for the Home page\n",
    "@app.route('/')\n",
    "def home():\n",
    "    return '''\n",
    "    <h1>Welcome to Flask in Jupyter!</h1>\n",
    "    <p>This is a simple webpage served using Flask inside Jupyter.</p>\n",
    "    <a href=\"/about\">Go to About Page</a>\n",
    "    '''\n",
    "\n",
    "# Route for the About page\n",
    "@app.route('/about')\n",
    "def about():\n",
    "    return '''\n",
    "    <h1>About This Web App</h1>\n",
    "    <p>This page was generated using Flask within a Jupyter notebook. It's a simple example to show Flask routing.</p>\n",
    "    <a href=\"/\">Go back Home</a>\n",
    "    '''\n",
    "    \n",
    "@app.route('/contact')\n",
    "def contact():\n",
    "    return '''\n",
    "    <h1>Contact Us</h1>\n",
    "    <p>If you have any questions, please reach out at contact@example.com.</p>\n",
    "    <a href=\"/\">Go back Home</a>\n",
    "    '''\n",
    "    \n",
    "# Function to run the Flask app\n",
    "def run_flask():\n",
    "    display(Javascript('window.open(\"/proxy/5000/\",\"_blank\")'))  # Opens a new tab in the browser for the app\n",
    "    app.run(host='0.0.0.0', port=5000)\n",
    "\n",
    "# Start the Flask application\n",
    "run_flask()"
   ]
  },
  {
   "cell_type": "code",
   "execution_count": null,
   "id": "3542bc88-5b8c-46c2-9777-eb67ce8d94ef",
   "metadata": {},
   "outputs": [],
   "source": []
  }
 ],
 "metadata": {
  "kernelspec": {
   "display_name": "Python 3 (ipykernel)",
   "language": "python",
   "name": "python3"
  },
  "language_info": {
   "codemirror_mode": {
    "name": "ipython",
    "version": 3
   },
   "file_extension": ".py",
   "mimetype": "text/x-python",
   "name": "python",
   "nbconvert_exporter": "python",
   "pygments_lexer": "ipython3",
   "version": "3.11.13"
  }
 },
 "nbformat": 4,
 "nbformat_minor": 5
}
