{
 "cells": [
  {
   "cell_type": "code",
   "execution_count": null,
   "id": "39530024-d3ef-4f33-a3be-f52484a1fca8",
   "metadata": {},
   "outputs": [
    {
     "name": "stdout",
     "output_type": "stream",
     "text": [
      " * Serving Flask app '__main__'\n",
      " * Debug mode: off\n"
     ]
    },
    {
     "name": "stderr",
     "output_type": "stream",
     "text": [
      "WARNING: This is a development server. Do not use it in a production deployment. Use a production WSGI server instead.\n",
      " * Running on http://127.0.0.1:5000\n",
      "Press CTRL+C to quit\n",
      "127.0.0.1 - - [04/Oct/2024 14:22:41] \"GET /users HTTP/1.1\" 200 -\n",
      "127.0.0.1 - - [04/Oct/2024 14:22:41] \"GET /favicon.ico HTTP/1.1\" 404 -\n",
      "127.0.0.1 - - [04/Oct/2024 14:22:45] \"GET / HTTP/1.1\" 200 -\n",
      "127.0.0.1 - - [04/Oct/2024 14:22:54] \"POST /register HTTP/1.1\" 302 -\n",
      "127.0.0.1 - - [04/Oct/2024 14:22:54] \"GET /users HTTP/1.1\" 200 -\n",
      "127.0.0.1 - - [04/Oct/2024 14:22:57] \"GET / HTTP/1.1\" 200 -\n",
      "127.0.0.1 - - [04/Oct/2024 14:23:00] \"GET /users HTTP/1.1\" 200 -\n",
      "127.0.0.1 - - [04/Oct/2024 14:23:02] \"GET / HTTP/1.1\" 200 -\n",
      "127.0.0.1 - - [04/Oct/2024 14:23:18] \"POST /register HTTP/1.1\" 302 -\n",
      "127.0.0.1 - - [04/Oct/2024 14:23:18] \"GET /users HTTP/1.1\" 200 -\n",
      "127.0.0.1 - - [04/Oct/2024 14:40:44] \"GET / HTTP/1.1\" 200 -\n",
      "127.0.0.1 - - [04/Oct/2024 14:41:09] \"GET /users HTTP/1.1\" 200 -\n"
     ]
    }
   ],
   "source": [
    "from flask import Flask, request, redirect, render_template\n",
    "import sqlite3\n",
    "import os\n",
    "\n",
    "app = Flask(__name__)\n",
    "\n",
    "# Function to connect to the SQLite database and initialize the table\n",
    "def init_db():\n",
    "    conn = sqlite3.connect('users.db')\n",
    "    cursor = conn.cursor()\n",
    "    cursor.execute('''\n",
    "    CREATE TABLE IF NOT EXISTS users (\n",
    "        id INTEGER PRIMARY KEY AUTOINCREMENT,\n",
    "        username TEXT NOT NULL,\n",
    "        created_at TIMESTAMP DEFAULT CURRENT_TIMESTAMP\n",
    "    )\n",
    "    ''')\n",
    "    conn.commit()\n",
    "    conn.close()\n",
    "\n",
    "# Route for the registration page\n",
    "@app.route('/')\n",
    "def register():\n",
    "    return render_template('register.html')\n",
    "\n",
    "# Route to handle user registration\n",
    "@app.route('/register', methods=['POST'])\n",
    "def do_register():\n",
    "    username = request.form['username']\n",
    "    \n",
    "    # Insert the new user into the database\n",
    "    conn = sqlite3.connect('users.db')\n",
    "    cursor = conn.cursor()\n",
    "    cursor.execute(\"INSERT INTO users (username) VALUES (?)\", (username,))\n",
    "    conn.commit()\n",
    "    conn.close()\n",
    "    \n",
    "    return redirect('/users')\n",
    "\n",
    "# Route to display registered users\n",
    "@app.route('/users')\n",
    "def users():\n",
    "    conn = sqlite3.connect('users.db')\n",
    "    cursor = conn.cursor()\n",
    "    cursor.execute(\"SELECT username, created_at FROM users\")\n",
    "    users = cursor.fetchall()\n",
    "    conn.close()\n",
    "    \n",
    "    return render_template('users.html', users=users)\n",
    "\n",
    "if __name__ == '__main__':\n",
    "    init_db()\n",
    "    app.run(port=5000, debug=False)  # Disable debug mode"
   ]
  },
  {
   "cell_type": "code",
   "execution_count": null,
   "id": "5abff694-c2ae-49f5-8923-e6ae7b7dc85d",
   "metadata": {},
   "outputs": [],
   "source": []
  }
 ],
 "metadata": {
  "kernelspec": {
   "display_name": "Python 3 (ipykernel)",
   "language": "python",
   "name": "python3"
  },
  "language_info": {
   "codemirror_mode": {
    "name": "ipython",
    "version": 3
   },
   "file_extension": ".py",
   "mimetype": "text/x-python",
   "name": "python",
   "nbconvert_exporter": "python",
   "pygments_lexer": "ipython3",
   "version": "3.11.4"
  }
 },
 "nbformat": 4,
 "nbformat_minor": 5
}
